{
  "nbformat": 4,
  "nbformat_minor": 0,
  "metadata": {
    "colab": {
      "provenance": []
    },
    "kernelspec": {
      "name": "python3",
      "display_name": "Python 3"
    },
    "language_info": {
      "name": "python"
    }
  },
  "cells": [
    {
      "cell_type": "code",
      "execution_count": 1,
      "metadata": {
        "colab": {
          "base_uri": "https://localhost:8080/"
        },
        "id": "X_nTWG_h7or5",
        "outputId": "ecb4afa2-ba99-4551-8e57-e7359ee2863b"
      },
      "outputs": [
        {
          "output_type": "stream",
          "name": "stdout",
          "text": [
            "=== DFA Result ===\n",
            "\n",
            "cat        --> Accepted\n",
            "dog        --> Accepted\n",
            "a          --> Accepted\n",
            "zebra      --> Accepted\n",
            "dog1       --> Not Accepted\n",
            "1dog       --> Not Accepted\n",
            "DogHouse   --> Not Accepted\n",
            "Dog_house  --> Not Accepted\n",
            " cats      --> Not Accepted\n"
          ]
        }
      ],
      "source": [
        "# ==========================\n",
        "# DFA for Valid English Words\n",
        "# ==========================\n",
        "\n",
        "# Function to simulate DFA\n",
        "def is_valid_word(s):\n",
        "    state = \"q0\"  # Start state\n",
        "\n",
        "    for char in s:\n",
        "        if state == \"q0\":\n",
        "\n",
        "            if char.islower():\n",
        "                state = \"q1\"\n",
        "            else:\n",
        "                state = \"qdead\"\n",
        "        elif state == \"q1\":\n",
        "            if char.islower():\n",
        "                state = \"q1\"\n",
        "            else:\n",
        "                state = \"qdead\"\n",
        "        else:\n",
        "\n",
        "            state = \"qdead\"\n",
        "\n",
        "\n",
        "    return state == \"q1\"\n",
        "\n",
        "test_words = [\n",
        "    \"cat\",\n",
        "    \"dog\",\n",
        "    \"a\",\n",
        "    \"zebra\",\n",
        "    \"dog1\",\n",
        "    \"1dog\",\n",
        "    \"DogHouse\",\n",
        "    \"Dog_house\",\n",
        "    \" cats\"\n",
        "]\n",
        "\n",
        "print(\"=== DFA Result ===\\n\")\n",
        "for word in test_words:\n",
        "    result = \"Accepted\" if is_valid_word(word) else \"Not Accepted\"\n",
        "    print(f\"{word:10} --> {result}\")\n"
      ]
    },
    {
      "cell_type": "code",
      "source": [
        "from google.colab import drive\n",
        "drive.mount('/content/drive')\n",
        "\n",
        "# Update path if stored in MyDrive\n",
        "noun_set = set()\n",
        "with open(\"/content/drive/MyDrive/brown_nouns.txt\", \"r\", encoding=\"utf-8\") as f:\n",
        "    for line in f:\n",
        "        noun_set.add(line.strip().lower())"
      ],
      "metadata": {
        "colab": {
          "base_uri": "https://localhost:8080/"
        },
        "id": "jYLqZRmg_Bzs",
        "outputId": "da612834-169c-403b-d62d-fc695aae4069"
      },
      "execution_count": 7,
      "outputs": [
        {
          "output_type": "stream",
          "name": "stdout",
          "text": [
            "Drive already mounted at /content/drive; to attempt to forcibly remount, call drive.mount(\"/content/drive\", force_remount=True).\n"
          ]
        }
      ]
    },
    {
      "cell_type": "code",
      "source": [
        "file_path = \"/content/drive/MyDrive/brown_nouns.txt\"\n",
        "import os\n",
        "print(os.path.exists(file_path))"
      ],
      "metadata": {
        "colab": {
          "base_uri": "https://localhost:8080/"
        },
        "id": "pxKYo6GQCZq9",
        "outputId": "e0c0c684-812e-4f08-a54c-f0c1ab4848c3"
      },
      "execution_count": 8,
      "outputs": [
        {
          "output_type": "stream",
          "name": "stdout",
          "text": [
            "True\n"
          ]
        }
      ]
    },
    {
      "cell_type": "code",
      "source": [
        "file_path = \"/content/drive/MyDrive/brown_nouns.txt\"\n",
        "\n",
        "with open(file_path, \"r\") as f:\n",
        "    nouns = [line.strip().lower() for line in f if line.strip()]\n",
        "\n",
        "print(f\"Total nouns loaded: {len(nouns)}\")"
      ],
      "metadata": {
        "colab": {
          "base_uri": "https://localhost:8080/"
        },
        "id": "0mNjcc0oCxhb",
        "outputId": "69fa3c74-ba44-44ab-eb2b-971ed884c832"
      },
      "execution_count": 9,
      "outputs": [
        {
          "output_type": "stream",
          "name": "stdout",
          "text": [
            "Total nouns loaded: 202793\n"
          ]
        }
      ]
    },
    {
      "cell_type": "code",
      "source": [
        "def generate_plural(word):\n",
        "    vowels = \"aeiou\"\n",
        "\n",
        "    # Rule 1: E insertion (watch → watches, fox → foxes)\n",
        "    if word.endswith((\"s\", \"z\", \"x\", \"ch\", \"sh\")):\n",
        "        return word + \"es\"\n",
        "\n",
        "    # Rule 2: Y replacement (try → tries)\n",
        "    elif word.endswith(\"y\") and word[-2] not in vowels:\n",
        "        return word[:-1] + \"ies\"\n",
        "\n",
        "    # Rule 3: Simple S addition (bag → bags)\n",
        "    else:\n",
        "        return word + \"s\""
      ],
      "metadata": {
        "id": "6RwSI9F3Cynw"
      },
      "execution_count": 10,
      "outputs": []
    },
    {
      "cell_type": "code",
      "source": [
        "for noun in nouns[:20]:  # Testing with first 20 nouns\n",
        "    plural = generate_plural(noun)\n",
        "\n",
        "    # Check invalid plural: If generated plural not in noun list\n",
        "    if plural in nouns:\n",
        "        print(f\"{plural} = {noun}+N+PL\")\n",
        "        print(f\"{noun} = {noun}+N+SG\")\n",
        "    else:\n",
        "        print(f\"{plural} = Invalid Word\")"
      ],
      "metadata": {
        "colab": {
          "base_uri": "https://localhost:8080/"
        },
        "id": "pacWIyZgC6Mp",
        "outputId": "6ed60a45-4e14-48bf-d4a9-5ce21ff326f2"
      },
      "execution_count": 11,
      "outputs": [
        {
          "output_type": "stream",
          "name": "stdout",
          "text": [
            "investigations = investigation+N+PL\n",
            "investigation = investigation+N+SG\n",
            "primaries = primary+N+PL\n",
            "primary = primary+N+SG\n",
            "elections = election+N+PL\n",
            "election = election+N+SG\n",
            "evidences = evidence+N+PL\n",
            "evidence = evidence+N+SG\n",
            "irregularitieses = Invalid Word\n",
            "places = place+N+PL\n",
            "place = place+N+SG\n",
            "juries = jury+N+PL\n",
            "jury = jury+N+SG\n",
            "presentmentses = Invalid Word\n",
            "charges = charge+N+PL\n",
            "charge = charge+N+SG\n",
            "elections = election+N+PL\n",
            "election = election+N+SG\n",
            "praises = Invalid Word\n",
            "thankses = Invalid Word\n",
            "manners = manner+N+PL\n",
            "manner = manner+N+SG\n",
            "elections = election+N+PL\n",
            "election = election+N+SG\n",
            "terms = term+N+PL\n",
            "term = term+N+SG\n",
            "juries = jury+N+PL\n",
            "jury = jury+N+SG\n",
            "reportses = Invalid Word\n",
            "irregularitieses = Invalid Word\n",
            "primaries = primary+N+PL\n",
            "primary = primary+N+SG\n",
            "handfuls = handful+N+PL\n",
            "handful = handful+N+SG\n"
          ]
        }
      ]
    },
    {
      "cell_type": "code",
      "source": [
        "output_path = \"/content/drive/MyDrive/brown_nouns_features.txt\"\n",
        "\n",
        "with open(output_path, \"w\") as f:\n",
        "    for noun in nouns:\n",
        "        plural = generate_plural(noun)\n",
        "        if plural in nouns:\n",
        "            f.write(f\"{plural} = {noun}+N+PL\\n\")\n",
        "            f.write(f\"{noun} = {noun}+N+SG\\n\")\n",
        "        else:\n",
        "            f.write(f\"{plural} = Invalid Word\\n\")\n",
        "\n",
        "print(f\"Features saved to: {output_path}\")"
      ],
      "metadata": {
        "colab": {
          "base_uri": "https://localhost:8080/"
        },
        "id": "8KCIddGdDAc8",
        "outputId": "6994056f-ebe6-4b8f-e78d-8bb0e492d4c3"
      },
      "execution_count": 12,
      "outputs": [
        {
          "output_type": "stream",
          "name": "stdout",
          "text": [
            "Features saved to: /content/drive/MyDrive/brown_nouns_features.txt\n"
          ]
        }
      ]
    },
    {
      "cell_type": "code",
      "source": [
        "print(open(output_path).read()[:500])"
      ],
      "metadata": {
        "id": "fpOmS_AaDDTs"
      },
      "execution_count": null,
      "outputs": []
    }
  ]
}