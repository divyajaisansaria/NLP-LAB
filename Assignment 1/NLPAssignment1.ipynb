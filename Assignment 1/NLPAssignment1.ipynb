{
  "nbformat": 4,
  "nbformat_minor": 0,
  "metadata": {
    "colab": {
      "provenance": []
    },
    "kernelspec": {
      "name": "python3",
      "display_name": "Python 3"
    },
    "language_info": {
      "name": "python"
    },
    "widgets": {
      "application/vnd.jupyter.widget-state+json": {
        "d5f54fa39daf46959876ed028d2d92fb": {
          "model_module": "@jupyter-widgets/controls",
          "model_name": "HBoxModel",
          "model_module_version": "1.5.0",
          "state": {
            "_dom_classes": [],
            "_model_module": "@jupyter-widgets/controls",
            "_model_module_version": "1.5.0",
            "_model_name": "HBoxModel",
            "_view_count": null,
            "_view_module": "@jupyter-widgets/controls",
            "_view_module_version": "1.5.0",
            "_view_name": "HBoxView",
            "box_style": "",
            "children": [
              "IPY_MODEL_25fb6c0d00e74c339775f66d0ff2de63",
              "IPY_MODEL_8256fcf8b37f45e9b3fe1b3df79eb3aa",
              "IPY_MODEL_47755171261447b99a2b305d195d4e78"
            ],
            "layout": "IPY_MODEL_ac4d63630add4d479c33f6a17be6fcf3"
          }
        },
        "25fb6c0d00e74c339775f66d0ff2de63": {
          "model_module": "@jupyter-widgets/controls",
          "model_name": "HTMLModel",
          "model_module_version": "1.5.0",
          "state": {
            "_dom_classes": [],
            "_model_module": "@jupyter-widgets/controls",
            "_model_module_version": "1.5.0",
            "_model_name": "HTMLModel",
            "_view_count": null,
            "_view_module": "@jupyter-widgets/controls",
            "_view_module_version": "1.5.0",
            "_view_name": "HTMLView",
            "description": "",
            "description_tooltip": null,
            "layout": "IPY_MODEL_78670371503d4058a3d76d402683852a",
            "placeholder": "​",
            "style": "IPY_MODEL_659dd7d5022349578cfdeeff274bd761",
            "value": "README.md: "
          }
        },
        "8256fcf8b37f45e9b3fe1b3df79eb3aa": {
          "model_module": "@jupyter-widgets/controls",
          "model_name": "FloatProgressModel",
          "model_module_version": "1.5.0",
          "state": {
            "_dom_classes": [],
            "_model_module": "@jupyter-widgets/controls",
            "_model_module_version": "1.5.0",
            "_model_name": "FloatProgressModel",
            "_view_count": null,
            "_view_module": "@jupyter-widgets/controls",
            "_view_module_version": "1.5.0",
            "_view_name": "ProgressView",
            "bar_style": "success",
            "description": "",
            "description_tooltip": null,
            "layout": "IPY_MODEL_271101820dbe481ebc62fc7cb525cec6",
            "max": 1,
            "min": 0,
            "orientation": "horizontal",
            "style": "IPY_MODEL_1611f31b3bc14740a2eb351a61a82920",
            "value": 1
          }
        },
        "47755171261447b99a2b305d195d4e78": {
          "model_module": "@jupyter-widgets/controls",
          "model_name": "HTMLModel",
          "model_module_version": "1.5.0",
          "state": {
            "_dom_classes": [],
            "_model_module": "@jupyter-widgets/controls",
            "_model_module_version": "1.5.0",
            "_model_name": "HTMLModel",
            "_view_count": null,
            "_view_module": "@jupyter-widgets/controls",
            "_view_module_version": "1.5.0",
            "_view_name": "HTMLView",
            "description": "",
            "description_tooltip": null,
            "layout": "IPY_MODEL_1da4f6e7630040cf876212e347c0c2a5",
            "placeholder": "​",
            "style": "IPY_MODEL_04b06724ddab4d08a3ed0344640cd51c",
            "value": " 4.01k/? [00:00&lt;00:00, 52.8kB/s]"
          }
        },
        "ac4d63630add4d479c33f6a17be6fcf3": {
          "model_module": "@jupyter-widgets/base",
          "model_name": "LayoutModel",
          "model_module_version": "1.2.0",
          "state": {
            "_model_module": "@jupyter-widgets/base",
            "_model_module_version": "1.2.0",
            "_model_name": "LayoutModel",
            "_view_count": null,
            "_view_module": "@jupyter-widgets/base",
            "_view_module_version": "1.2.0",
            "_view_name": "LayoutView",
            "align_content": null,
            "align_items": null,
            "align_self": null,
            "border": null,
            "bottom": null,
            "display": null,
            "flex": null,
            "flex_flow": null,
            "grid_area": null,
            "grid_auto_columns": null,
            "grid_auto_flow": null,
            "grid_auto_rows": null,
            "grid_column": null,
            "grid_gap": null,
            "grid_row": null,
            "grid_template_areas": null,
            "grid_template_columns": null,
            "grid_template_rows": null,
            "height": null,
            "justify_content": null,
            "justify_items": null,
            "left": null,
            "margin": null,
            "max_height": null,
            "max_width": null,
            "min_height": null,
            "min_width": null,
            "object_fit": null,
            "object_position": null,
            "order": null,
            "overflow": null,
            "overflow_x": null,
            "overflow_y": null,
            "padding": null,
            "right": null,
            "top": null,
            "visibility": null,
            "width": null
          }
        },
        "78670371503d4058a3d76d402683852a": {
          "model_module": "@jupyter-widgets/base",
          "model_name": "LayoutModel",
          "model_module_version": "1.2.0",
          "state": {
            "_model_module": "@jupyter-widgets/base",
            "_model_module_version": "1.2.0",
            "_model_name": "LayoutModel",
            "_view_count": null,
            "_view_module": "@jupyter-widgets/base",
            "_view_module_version": "1.2.0",
            "_view_name": "LayoutView",
            "align_content": null,
            "align_items": null,
            "align_self": null,
            "border": null,
            "bottom": null,
            "display": null,
            "flex": null,
            "flex_flow": null,
            "grid_area": null,
            "grid_auto_columns": null,
            "grid_auto_flow": null,
            "grid_auto_rows": null,
            "grid_column": null,
            "grid_gap": null,
            "grid_row": null,
            "grid_template_areas": null,
            "grid_template_columns": null,
            "grid_template_rows": null,
            "height": null,
            "justify_content": null,
            "justify_items": null,
            "left": null,
            "margin": null,
            "max_height": null,
            "max_width": null,
            "min_height": null,
            "min_width": null,
            "object_fit": null,
            "object_position": null,
            "order": null,
            "overflow": null,
            "overflow_x": null,
            "overflow_y": null,
            "padding": null,
            "right": null,
            "top": null,
            "visibility": null,
            "width": null
          }
        },
        "659dd7d5022349578cfdeeff274bd761": {
          "model_module": "@jupyter-widgets/controls",
          "model_name": "DescriptionStyleModel",
          "model_module_version": "1.5.0",
          "state": {
            "_model_module": "@jupyter-widgets/controls",
            "_model_module_version": "1.5.0",
            "_model_name": "DescriptionStyleModel",
            "_view_count": null,
            "_view_module": "@jupyter-widgets/base",
            "_view_module_version": "1.2.0",
            "_view_name": "StyleView",
            "description_width": ""
          }
        },
        "271101820dbe481ebc62fc7cb525cec6": {
          "model_module": "@jupyter-widgets/base",
          "model_name": "LayoutModel",
          "model_module_version": "1.2.0",
          "state": {
            "_model_module": "@jupyter-widgets/base",
            "_model_module_version": "1.2.0",
            "_model_name": "LayoutModel",
            "_view_count": null,
            "_view_module": "@jupyter-widgets/base",
            "_view_module_version": "1.2.0",
            "_view_name": "LayoutView",
            "align_content": null,
            "align_items": null,
            "align_self": null,
            "border": null,
            "bottom": null,
            "display": null,
            "flex": null,
            "flex_flow": null,
            "grid_area": null,
            "grid_auto_columns": null,
            "grid_auto_flow": null,
            "grid_auto_rows": null,
            "grid_column": null,
            "grid_gap": null,
            "grid_row": null,
            "grid_template_areas": null,
            "grid_template_columns": null,
            "grid_template_rows": null,
            "height": null,
            "justify_content": null,
            "justify_items": null,
            "left": null,
            "margin": null,
            "max_height": null,
            "max_width": null,
            "min_height": null,
            "min_width": null,
            "object_fit": null,
            "object_position": null,
            "order": null,
            "overflow": null,
            "overflow_x": null,
            "overflow_y": null,
            "padding": null,
            "right": null,
            "top": null,
            "visibility": null,
            "width": "20px"
          }
        },
        "1611f31b3bc14740a2eb351a61a82920": {
          "model_module": "@jupyter-widgets/controls",
          "model_name": "ProgressStyleModel",
          "model_module_version": "1.5.0",
          "state": {
            "_model_module": "@jupyter-widgets/controls",
            "_model_module_version": "1.5.0",
            "_model_name": "ProgressStyleModel",
            "_view_count": null,
            "_view_module": "@jupyter-widgets/base",
            "_view_module_version": "1.2.0",
            "_view_name": "StyleView",
            "bar_color": null,
            "description_width": ""
          }
        },
        "1da4f6e7630040cf876212e347c0c2a5": {
          "model_module": "@jupyter-widgets/base",
          "model_name": "LayoutModel",
          "model_module_version": "1.2.0",
          "state": {
            "_model_module": "@jupyter-widgets/base",
            "_model_module_version": "1.2.0",
            "_model_name": "LayoutModel",
            "_view_count": null,
            "_view_module": "@jupyter-widgets/base",
            "_view_module_version": "1.2.0",
            "_view_name": "LayoutView",
            "align_content": null,
            "align_items": null,
            "align_self": null,
            "border": null,
            "bottom": null,
            "display": null,
            "flex": null,
            "flex_flow": null,
            "grid_area": null,
            "grid_auto_columns": null,
            "grid_auto_flow": null,
            "grid_auto_rows": null,
            "grid_column": null,
            "grid_gap": null,
            "grid_row": null,
            "grid_template_areas": null,
            "grid_template_columns": null,
            "grid_template_rows": null,
            "height": null,
            "justify_content": null,
            "justify_items": null,
            "left": null,
            "margin": null,
            "max_height": null,
            "max_width": null,
            "min_height": null,
            "min_width": null,
            "object_fit": null,
            "object_position": null,
            "order": null,
            "overflow": null,
            "overflow_x": null,
            "overflow_y": null,
            "padding": null,
            "right": null,
            "top": null,
            "visibility": null,
            "width": null
          }
        },
        "04b06724ddab4d08a3ed0344640cd51c": {
          "model_module": "@jupyter-widgets/controls",
          "model_name": "DescriptionStyleModel",
          "model_module_version": "1.5.0",
          "state": {
            "_model_module": "@jupyter-widgets/controls",
            "_model_module_version": "1.5.0",
            "_model_name": "DescriptionStyleModel",
            "_view_count": null,
            "_view_module": "@jupyter-widgets/base",
            "_view_module_version": "1.2.0",
            "_view_name": "StyleView",
            "description_width": ""
          }
        }
      }
    }
  },
  "cells": [
    {
      "cell_type": "code",
      "execution_count": null,
      "metadata": {
        "colab": {
          "base_uri": "https://localhost:8080/"
        },
        "collapsed": true,
        "id": "P1cams4JaRrI",
        "outputId": "4d7c3a1a-03ce-4d1d-aa73-ab5e29aeb9cc"
      },
      "outputs": [
        {
          "output_type": "stream",
          "name": "stdout",
          "text": [
            "Requirement already satisfied: datasets in /usr/local/lib/python3.12/dist-packages (4.0.0)\n",
            "Requirement already satisfied: filelock in /usr/local/lib/python3.12/dist-packages (from datasets) (3.19.1)\n",
            "Requirement already satisfied: numpy>=1.17 in /usr/local/lib/python3.12/dist-packages (from datasets) (2.0.2)\n",
            "Requirement already satisfied: pyarrow>=15.0.0 in /usr/local/lib/python3.12/dist-packages (from datasets) (18.1.0)\n",
            "Requirement already satisfied: dill<0.3.9,>=0.3.0 in /usr/local/lib/python3.12/dist-packages (from datasets) (0.3.8)\n",
            "Requirement already satisfied: pandas in /usr/local/lib/python3.12/dist-packages (from datasets) (2.2.2)\n",
            "Requirement already satisfied: requests>=2.32.2 in /usr/local/lib/python3.12/dist-packages (from datasets) (2.32.4)\n",
            "Requirement already satisfied: tqdm>=4.66.3 in /usr/local/lib/python3.12/dist-packages (from datasets) (4.67.1)\n",
            "Requirement already satisfied: xxhash in /usr/local/lib/python3.12/dist-packages (from datasets) (3.5.0)\n",
            "Requirement already satisfied: multiprocess<0.70.17 in /usr/local/lib/python3.12/dist-packages (from datasets) (0.70.16)\n",
            "Requirement already satisfied: fsspec<=2025.3.0,>=2023.1.0 in /usr/local/lib/python3.12/dist-packages (from fsspec[http]<=2025.3.0,>=2023.1.0->datasets) (2025.3.0)\n",
            "Requirement already satisfied: huggingface-hub>=0.24.0 in /usr/local/lib/python3.12/dist-packages (from datasets) (0.34.4)\n",
            "Requirement already satisfied: packaging in /usr/local/lib/python3.12/dist-packages (from datasets) (25.0)\n",
            "Requirement already satisfied: pyyaml>=5.1 in /usr/local/lib/python3.12/dist-packages (from datasets) (6.0.2)\n",
            "Requirement already satisfied: aiohttp!=4.0.0a0,!=4.0.0a1 in /usr/local/lib/python3.12/dist-packages (from fsspec[http]<=2025.3.0,>=2023.1.0->datasets) (3.12.15)\n",
            "Requirement already satisfied: typing-extensions>=3.7.4.3 in /usr/local/lib/python3.12/dist-packages (from huggingface-hub>=0.24.0->datasets) (4.15.0)\n",
            "Requirement already satisfied: hf-xet<2.0.0,>=1.1.3 in /usr/local/lib/python3.12/dist-packages (from huggingface-hub>=0.24.0->datasets) (1.1.8)\n",
            "Requirement already satisfied: charset_normalizer<4,>=2 in /usr/local/lib/python3.12/dist-packages (from requests>=2.32.2->datasets) (3.4.3)\n",
            "Requirement already satisfied: idna<4,>=2.5 in /usr/local/lib/python3.12/dist-packages (from requests>=2.32.2->datasets) (3.10)\n",
            "Requirement already satisfied: urllib3<3,>=1.21.1 in /usr/local/lib/python3.12/dist-packages (from requests>=2.32.2->datasets) (2.5.0)\n",
            "Requirement already satisfied: certifi>=2017.4.17 in /usr/local/lib/python3.12/dist-packages (from requests>=2.32.2->datasets) (2025.8.3)\n",
            "Requirement already satisfied: python-dateutil>=2.8.2 in /usr/local/lib/python3.12/dist-packages (from pandas->datasets) (2.9.0.post0)\n",
            "Requirement already satisfied: pytz>=2020.1 in /usr/local/lib/python3.12/dist-packages (from pandas->datasets) (2025.2)\n",
            "Requirement already satisfied: tzdata>=2022.7 in /usr/local/lib/python3.12/dist-packages (from pandas->datasets) (2025.2)\n",
            "Requirement already satisfied: aiohappyeyeballs>=2.5.0 in /usr/local/lib/python3.12/dist-packages (from aiohttp!=4.0.0a0,!=4.0.0a1->fsspec[http]<=2025.3.0,>=2023.1.0->datasets) (2.6.1)\n",
            "Requirement already satisfied: aiosignal>=1.4.0 in /usr/local/lib/python3.12/dist-packages (from aiohttp!=4.0.0a0,!=4.0.0a1->fsspec[http]<=2025.3.0,>=2023.1.0->datasets) (1.4.0)\n",
            "Requirement already satisfied: attrs>=17.3.0 in /usr/local/lib/python3.12/dist-packages (from aiohttp!=4.0.0a0,!=4.0.0a1->fsspec[http]<=2025.3.0,>=2023.1.0->datasets) (25.3.0)\n",
            "Requirement already satisfied: frozenlist>=1.1.1 in /usr/local/lib/python3.12/dist-packages (from aiohttp!=4.0.0a0,!=4.0.0a1->fsspec[http]<=2025.3.0,>=2023.1.0->datasets) (1.7.0)\n",
            "Requirement already satisfied: multidict<7.0,>=4.5 in /usr/local/lib/python3.12/dist-packages (from aiohttp!=4.0.0a0,!=4.0.0a1->fsspec[http]<=2025.3.0,>=2023.1.0->datasets) (6.6.4)\n",
            "Requirement already satisfied: propcache>=0.2.0 in /usr/local/lib/python3.12/dist-packages (from aiohttp!=4.0.0a0,!=4.0.0a1->fsspec[http]<=2025.3.0,>=2023.1.0->datasets) (0.3.2)\n",
            "Requirement already satisfied: yarl<2.0,>=1.17.0 in /usr/local/lib/python3.12/dist-packages (from aiohttp!=4.0.0a0,!=4.0.0a1->fsspec[http]<=2025.3.0,>=2023.1.0->datasets) (1.20.1)\n",
            "Requirement already satisfied: six>=1.5 in /usr/local/lib/python3.12/dist-packages (from python-dateutil>=2.8.2->pandas->datasets) (1.17.0)\n"
          ]
        }
      ],
      "source": [
        "pip install datasets"
      ]
    },
    {
      "cell_type": "code",
      "source": [
        "from datasets import load_dataset\n",
        "\n",
        "dataset = load_dataset(\n",
        "    \"ai4bharat/IndicCorpV2\",\n",
        "    name=\"indiccorp_v2\",\n",
        "    split=\"hin_Deva\",\n",
        "    streaming=True  # Optional: avoid full download\n",
        ")\n",
        "\n",
        "print(next(iter(dataset)))"
      ],
      "metadata": {
        "colab": {
          "base_uri": "https://localhost:8080/",
          "height": 65,
          "referenced_widgets": [
            "d5f54fa39daf46959876ed028d2d92fb",
            "25fb6c0d00e74c339775f66d0ff2de63",
            "8256fcf8b37f45e9b3fe1b3df79eb3aa",
            "47755171261447b99a2b305d195d4e78",
            "ac4d63630add4d479c33f6a17be6fcf3",
            "78670371503d4058a3d76d402683852a",
            "659dd7d5022349578cfdeeff274bd761",
            "271101820dbe481ebc62fc7cb525cec6",
            "1611f31b3bc14740a2eb351a61a82920",
            "1da4f6e7630040cf876212e347c0c2a5",
            "04b06724ddab4d08a3ed0344640cd51c"
          ]
        },
        "id": "3XP98kAVaesx",
        "outputId": "103df7de-ce53-40f6-9d63-ec4de7cd9aa3"
      },
      "execution_count": null,
      "outputs": [
        {
          "output_type": "display_data",
          "data": {
            "text/plain": [
              "README.md: 0.00B [00:00, ?B/s]"
            ],
            "application/vnd.jupyter.widget-view+json": {
              "version_major": 2,
              "version_minor": 0,
              "model_id": "d5f54fa39daf46959876ed028d2d92fb"
            }
          },
          "metadata": {}
        },
        {
          "output_type": "stream",
          "name": "stdout",
          "text": [
            "{'text': 'लोगों को बिलों संबंधी सुविधा देना ही उनका काम'}\n"
          ]
        }
      ]
    },
    {
      "cell_type": "code",
      "source": [
        "def custom_sentence_tokenizer(text):\n",
        "    # Split by Hindi sentence enders: । ? !\n",
        "    # Keep punctuation attached to sentence\n",
        "    sentences = re.split(r'(?<=[।!,?])\\s+', text.strip())\n",
        "    return [s.strip() for s in sentences if s.strip()]"
      ],
      "metadata": {
        "id": "CkNVGc9XeFqR"
      },
      "execution_count": null,
      "outputs": []
    },
    {
      "cell_type": "code",
      "source": [
        "import re\n",
        "\n",
        "def custom_word_tokenizer(text):\n",
        "    pattern = (\n",
        "        r'\\b[\\w\\.-]+@[\\w\\.-]+\\.\\w+\\b'       # emails\n",
        "        r'|https?://\\S+'                    # URLs\n",
        "        r'|\\d+\\.\\d+|\\d+'                    # numbers\n",
        "        r'|[\\u0900-\\u097F]+'                # Hindi words (matras included)\n",
        "        r'|[^\\s\\w\\u0900-\\u097F]'            # punctuation\n",
        "    )\n",
        "    return re.findall(pattern, text)"
      ],
      "metadata": {
        "id": "4C-VEM_yeQbE"
      },
      "execution_count": null,
      "outputs": []
    },
    {
      "cell_type": "code",
      "source": [
        "from datasets import load_dataset\n",
        "\n",
        "dataset = load_dataset(\"ai4bharat/IndicCorpV2\", name=\"indiccorp_v2\", split=\"hin_Deva\", streaming=True)\n",
        "\n",
        "total_sentences = 0\n",
        "total_words = 0\n",
        "total_chars = 0\n",
        "unique_words = set()\n",
        "\n",
        "MAX_PARAGRAPHS = 500_000  # Optional limit for speed\n",
        "\n",
        "for i, example in enumerate(dataset):\n",
        "    text = example[\"text\"]\n",
        "\n",
        "    # Custom sentence tokenizer\n",
        "    sentences = custom_sentence_tokenizer(text)\n",
        "    for sent in sentences:\n",
        "        total_sentences += 1\n",
        "        words = custom_word_tokenizer(sent)\n",
        "        total_words += len(words)\n",
        "        total_chars += sum(len(word) for word in words)\n",
        "        unique_words.update(words)\n",
        "\n",
        "    if i + 1 >= MAX_PARAGRAPHS:\n",
        "        break\n",
        "\n",
        "# Final statistics\n",
        "print(f\"Total sentences: {total_sentences}\")\n",
        "print(f\"Total words: {total_words}\")\n",
        "print(f\"Total characters: {total_chars}\")\n",
        "print(f\"Average sentence length (words/sentence): {total_words / total_sentences:.2f}\")\n",
        "print(f\"Average word length (characters/word): {total_chars / total_words:.2f}\")\n",
        "print(f\"Type/Token Ratio: {len(unique_words) / total_words:.4f}\")"
      ],
      "metadata": {
        "colab": {
          "base_uri": "https://localhost:8080/"
        },
        "id": "Yr3qYX28eUFd",
        "outputId": "35fb018b-02e7-4c1c-8278-06886e433382"
      },
      "execution_count": null,
      "outputs": [
        {
          "output_type": "stream",
          "name": "stdout",
          "text": [
            "Total sentences: 1020630\n",
            "Total words: 15331056\n",
            "Total characters: 58900837\n",
            "Average sentence length (words/sentence): 15.02\n",
            "Average word length (characters/word): 3.84\n",
            "Type/Token Ratio: 0.0160\n"
          ]
        }
      ]
    },
    {
      "cell_type": "code",
      "source": [
        "import itertools\n",
        "\n",
        "# Take first 3 paragraphs from the streaming dataset\n",
        "for i, example in enumerate(itertools.islice(dataset, 3), start=1):\n",
        "    text = example[\"text\"].strip()\n",
        "    print(f\"\\n=== Row {i} Original Text ===\")\n",
        "    print(text)\n",
        "\n",
        "    # Sentence Tokenization\n",
        "    sentences = custom_sentence_tokenizer(text)\n",
        "    print(\"\\n--- Sentences ---\")\n",
        "    for idx, sent in enumerate(sentences, 1):\n",
        "        print(f\"{idx}. {sent}\")\n",
        "\n",
        "    # Word Tokenization for the first sentence\n",
        "    if sentences:\n",
        "        print(\"\\n--- Words in Sentence 1 ---\")\n",
        "        words = custom_word_tokenizer(sentences[0])\n",
        "        print(words)\n",
        "    else:\n",
        "        print(\"\\n(No valid sentences found in this row)\")"
      ],
      "metadata": {
        "colab": {
          "base_uri": "https://localhost:8080/"
        },
        "id": "zrA2YJ2bihLn",
        "outputId": "0b8465ab-9d6e-40fa-959d-31f39184cb75"
      },
      "execution_count": null,
      "outputs": [
        {
          "output_type": "stream",
          "name": "stdout",
          "text": [
            "\n",
            "=== Row 1 Original Text ===\n",
            "लोगों को बिलों संबंधी सुविधा देना ही उनका काम\n",
            "\n",
            "--- Sentences ---\n",
            "1. लोगों को बिलों संबंधी सुविधा देना ही उनका काम\n",
            "\n",
            "--- Words in Sentence 1 ---\n",
            "['लोगों', 'को', 'बिलों', 'संबंधी', 'सुविधा', 'देना', 'ही', 'उनका', 'काम']\n",
            "\n",
            "=== Row 2 Original Text ===\n",
            "\n",
            "\n",
            "--- Sentences ---\n",
            "\n",
            "(No valid sentences found in this row)\n",
            "\n",
            "=== Row 3 Original Text ===\n",
            "इनेलो 1987 में उस वक्त ऐसे ही दोराहे पर खड़ी थी, जब पूर्व उपप्रधानमंत्री देवीलाल ने अपने पुत्र ओमप्रकाश चौटाला को अपना राजनीतिक उत्तराधिकारी घोषित किया था। हालांकि तब पार्टी पर देवीलाल की मजबूत पकड़ के चलते पार्टी टूटने से बच गई थी। 1989 में देवीलाल केन्द्र की राजनीति में सक्रिय हो गए थे और उनके उपप्रधानमंत्री बनने के पश्चात् उनके तीन बेटों जगदीश सिंह, रणजीत सिंह और ओमप्रकाश चौटाला में से रणजीत और ओमप्रकाश के बीच हरियाणा में उनकी राजनीतिक विरासत को लेकर जंग शुरू हो गई थी। उन परिस्थितियों में देवीलाल ने कड़ा निर्णय लेते हुए पार्टी की बागडोर ओमप्रकाश चौटाला के हवाले कर दी थी, जिसके बाद रणजीत की बगावत का असर पार्टी, संगठन और उनकी सरकार पर भी पड़ा था। उस समय रणजीत की नाराजगी के चलते उनके समर्थन में कई कैबिनेट मंत्रियों ने इस्तीफे दे दिए थे किन्तु तब पार्टी सुप्रीमो चौ. देवीलाल की हरियाणा की जनता पर इतनी मजबूत पकड़ थी कि ओमप्रकाश चौटाला को उत्तराधिकारी बनाने के उनके फैसले का जनता के बीच कोई खास विरोध नहीं हुआ था लेकिन आज स्थिति बिल्कुल विपरीत है। ओमप्रकाश चौटाला पिछले काफी समय से जेल में हैं और जेल में रहते पार्टी के साथ-साथ परिवार पर भी उनकी पकड़ काफी ढ़ीली हो गई है, इसी कारण उनमें अब देवीलाल जैसा वो सामर्थ्य नजर नहीं आता कि वे अपने फैसलों को बगैर किसी प्रतिरोध के लागू करा सकें।\n",
            "\n",
            "--- Sentences ---\n",
            "1. इनेलो 1987 में उस वक्त ऐसे ही दोराहे पर खड़ी थी,\n",
            "2. जब पूर्व उपप्रधानमंत्री देवीलाल ने अपने पुत्र ओमप्रकाश चौटाला को अपना राजनीतिक उत्तराधिकारी घोषित किया था।\n",
            "3. हालांकि तब पार्टी पर देवीलाल की मजबूत पकड़ के चलते पार्टी टूटने से बच गई थी।\n",
            "4. 1989 में देवीलाल केन्द्र की राजनीति में सक्रिय हो गए थे और उनके उपप्रधानमंत्री बनने के पश्चात् उनके तीन बेटों जगदीश सिंह,\n",
            "5. रणजीत सिंह और ओमप्रकाश चौटाला में से रणजीत और ओमप्रकाश के बीच हरियाणा में उनकी राजनीतिक विरासत को लेकर जंग शुरू हो गई थी।\n",
            "6. उन परिस्थितियों में देवीलाल ने कड़ा निर्णय लेते हुए पार्टी की बागडोर ओमप्रकाश चौटाला के हवाले कर दी थी,\n",
            "7. जिसके बाद रणजीत की बगावत का असर पार्टी,\n",
            "8. संगठन और उनकी सरकार पर भी पड़ा था।\n",
            "9. उस समय रणजीत की नाराजगी के चलते उनके समर्थन में कई कैबिनेट मंत्रियों ने इस्तीफे दे दिए थे किन्तु तब पार्टी सुप्रीमो चौ. देवीलाल की हरियाणा की जनता पर इतनी मजबूत पकड़ थी कि ओमप्रकाश चौटाला को उत्तराधिकारी बनाने के उनके फैसले का जनता के बीच कोई खास विरोध नहीं हुआ था लेकिन आज स्थिति बिल्कुल विपरीत है।\n",
            "10. ओमप्रकाश चौटाला पिछले काफी समय से जेल में हैं और जेल में रहते पार्टी के साथ-साथ परिवार पर भी उनकी पकड़ काफी ढ़ीली हो गई है,\n",
            "11. इसी कारण उनमें अब देवीलाल जैसा वो सामर्थ्य नजर नहीं आता कि वे अपने फैसलों को बगैर किसी प्रतिरोध के लागू करा सकें।\n",
            "\n",
            "--- Words in Sentence 1 ---\n",
            "['इनेलो', '1987', 'में', 'उस', 'वक्त', 'ऐसे', 'ही', 'दोराहे', 'पर', 'खड़ी', 'थी', ',']\n"
          ]
        }
      ]
    },
    {
      "cell_type": "code",
      "source": [
        "# Mount Google Drive\n",
        "from google.colab import drive\n",
        "drive.mount('/content/drive')\n",
        "\n",
        "# Define path to save tokenized sentences in your Google Drive\n",
        "output_file = \"/content/drive/MyDrive/tokenized_sentences.txt\"\n",
        "\n",
        "# Create the directory if it doesn't exist\n",
        "import os\n",
        "os.makedirs(os.path.dirname(output_file), exist_ok=True)\n",
        "\n",
        "# Initialize counters\n",
        "total_sentences = 0\n",
        "total_words = 0\n",
        "total_chars = 0\n",
        "unique_words = set()\n",
        "MAX_PARAGRAPHS = 500000  # Process first 5 lakh paragraphs\n",
        "\n",
        "# Save tokenized sentences directly into Google Drive\n",
        "with open(output_file, \"w\", encoding=\"utf-8\") as f:\n",
        "    for i, example in enumerate(dataset):\n",
        "        text = example[\"text\"].strip()\n",
        "        sentences = custom_sentence_tokenizer(text)\n",
        "\n",
        "        for sent in sentences:\n",
        "            words = custom_word_tokenizer(sent)\n",
        "            if not words:\n",
        "                continue\n",
        "\n",
        "            tokenized_sentence = \" \".join(words)\n",
        "            f.write(tokenized_sentence + \"\\n\")\n",
        "\n",
        "            total_sentences += 1\n",
        "            total_words += len(words)\n",
        "            total_chars += sum(len(word) for word in words)\n",
        "            unique_words.update(words)\n",
        "\n",
        "        if i + 1 >= MAX_PARAGRAPHS:  # Stop after 5 lakh paragraphs\n",
        "            break\n",
        "\n",
        "print(f\"✅ Tokenized sentences saved to: {output_file}\")\n",
        "print(f\"📄 Total Sentences: {total_sentences}\")\n",
        "print(f\"🔤 Total Words: {total_words}\")\n",
        "print(f\"🔠 Unique Words: {len(unique_words)}\")"
      ],
      "metadata": {
        "colab": {
          "base_uri": "https://localhost:8080/"
        },
        "id": "L5dCr42JbV7d",
        "outputId": "24e7c1b7-972f-4b84-8828-61a9521276df"
      },
      "execution_count": 11,
      "outputs": [
        {
          "output_type": "stream",
          "name": "stdout",
          "text": [
            "Mounted at /content/drive\n",
            "✅ Tokenized sentences saved to: /content/drive/MyDrive/tokenized_sentences.txt\n",
            "📄 Total Sentences: 1020545\n",
            "🔤 Total Words: 15331056\n",
            "🔠 Unique Words: 245959\n"
          ]
        }
      ]
    },
    {
      "cell_type": "code",
      "source": [
        "print(f\"Total sentences: {total_sentences}\")\n",
        "print(f\"Total words: {total_words}\")\n",
        "print(f\"Total characters: {total_chars}\")\n",
        "print(f\"Average sentence length: {total_words / total_sentences:.2f} words\")\n",
        "print(f\"Average word length: {total_chars / total_words:.2f} characters\")\n",
        "print(f\"Type/Token Ratio: {len(unique_words) / total_words:.4f}\")"
      ],
      "metadata": {
        "id": "JPVwoRvqfa9W",
        "outputId": "6715f5fa-a214-4a30-c872-6bfad9000e76",
        "colab": {
          "base_uri": "https://localhost:8080/"
        }
      },
      "execution_count": 12,
      "outputs": [
        {
          "output_type": "stream",
          "name": "stdout",
          "text": [
            "Total sentences: 1020545\n",
            "Total words: 15331056\n",
            "Total characters: 58900837\n",
            "Average sentence length: 15.02 words\n",
            "Average word length: 3.84 characters\n",
            "Type/Token Ratio: 0.0160\n"
          ]
        }
      ]
    }
  ]
}